{
 "cells": [
  {
   "cell_type": "code",
   "execution_count": 1,
   "id": "c594c201",
   "metadata": {
    "scrolled": true
   },
   "outputs": [
    {
     "name": "stdout",
     "output_type": "stream",
     "text": [
      " El volumen de la unidad D es Datos\n",
      " El n£mero de serie del volumen es: 6A75-C300\n",
      "\n",
      " Directorio de D:\\Cursos\\curso_python\\workspace\\curso_python\n",
      "\n",
      "30/11/2021  09:51    <DIR>          .\n",
      "30/11/2021  09:51    <DIR>          ..\n",
      "29/11/2021  12:41             1.993 .gitignore\n",
      "30/11/2021  09:51    <DIR>          .ipynb_checkpoints\n",
      "30/11/2021  08:48    <DIR>          clase1\n",
      "30/11/2021  08:48    <DIR>          clase2\n",
      "30/11/2021  09:06    <DIR>          etc\n",
      "29/11/2021  11:45    <DIR>          Lib\n",
      "29/11/2021  12:42               418 pyvenv.cfg\n",
      "30/11/2021  09:08                98 README.md\n",
      "30/11/2021  09:06    <DIR>          Scripts\n",
      "30/11/2021  09:06    <DIR>          share\n",
      "30/11/2021  09:50               603 Untitled.ipynb\n",
      "30/11/2021  09:49                 0 untitled.txt\n",
      "30/11/2021  09:51                72 Untitled1.ipynb\n",
      "               6 archivos          3.184 bytes\n",
      "               9 dirs  374.591.127.552 bytes libres\n"
     ]
    }
   ],
   "source": [
    "\n",
    "ls\n"
   ]
  },
  {
   "cell_type": "code",
   "execution_count": 9,
   "id": "43798fe8",
   "metadata": {},
   "outputs": [],
   "source": [
    "%alias verdir dir"
   ]
  },
  {
   "cell_type": "code",
   "execution_count": 1,
   "id": "1567b06d",
   "metadata": {},
   "outputs": [],
   "source": [
    "import ejemplofuncion #\n"
   ]
  },
  {
   "cell_type": "code",
   "execution_count": 3,
   "id": "ebbb085d",
   "metadata": {},
   "outputs": [
    {
     "name": "stdout",
     "output_type": "stream",
     "text": [
      "Hola\n"
     ]
    }
   ],
   "source": [
    "ejemplofuncion.hola()"
   ]
  },
  {
   "cell_type": "code",
   "execution_count": 10,
   "id": "a7a7f60f",
   "metadata": {},
   "outputs": [
    {
     "name": "stdout",
     "output_type": "stream",
     "text": [
      " El volumen de la unidad D es Datos\n",
      " El n£mero de serie del volumen es: 6A75-C300\n",
      "\n",
      " Directorio de D:\\Cursos\\curso_python\\workspace\\curso_python\n",
      "\n",
      "30/11/2021  09:53    <DIR>          .\n",
      "30/11/2021  09:53    <DIR>          ..\n",
      "29/11/2021  12:41             1.993 .gitignore\n",
      "30/11/2021  09:51    <DIR>          .ipynb_checkpoints\n",
      "30/11/2021  08:48    <DIR>          clase1\n",
      "30/11/2021  08:48    <DIR>          clase2\n",
      "30/11/2021  09:06    <DIR>          etc\n",
      "29/11/2021  11:45    <DIR>          Lib\n",
      "29/11/2021  12:42               418 pyvenv.cfg\n",
      "30/11/2021  09:08                98 README.md\n",
      "30/11/2021  09:06    <DIR>          Scripts\n",
      "30/11/2021  09:06    <DIR>          share\n",
      "30/11/2021  09:50               603 Untitled.ipynb\n",
      "30/11/2021  09:49                 0 untitled.txt\n",
      "30/11/2021  09:53             3.700 Untitled1.ipynb\n",
      "               6 archivos          6.812 bytes\n",
      "               9 dirs  374.591.123.456 bytes libres\n"
     ]
    }
   ],
   "source": [
    "verdir\n"
   ]
  }
 ],
 "metadata": {
  "kernelspec": {
   "display_name": "Python 3 (ipykernel)",
   "language": "python",
   "name": "python3"
  },
  "language_info": {
   "codemirror_mode": {
    "name": "ipython",
    "version": 3
   },
   "file_extension": ".py",
   "mimetype": "text/x-python",
   "name": "python",
   "nbconvert_exporter": "python",
   "pygments_lexer": "ipython3",
   "version": "3.10.0"
  }
 },
 "nbformat": 4,
 "nbformat_minor": 5
}
